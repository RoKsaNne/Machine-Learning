{
 "cells": [
  {
   "cell_type": "code",
   "execution_count": 1,
   "id": "b0092dde",
   "metadata": {
    "scrolled": true
   },
   "outputs": [],
   "source": [
    "import numpy as np\n",
    "import pandas as pd\n",
    "import math\n",
    "import scipy\n",
    "from scipy.stats import multivariate_normal as mvn\n",
    "import itertools\n",
    "from tqdm import tqdm\n",
    "import matplotlib.pyplot as plt\n",
    "import os"
   ]
  },
  {
   "cell_type": "markdown",
   "id": "de5d8152",
   "metadata": {},
   "source": [
    "### Load Data"
   ]
  },
  {
   "cell_type": "code",
   "execution_count": 2,
   "id": "77313ab1",
   "metadata": {},
   "outputs": [],
   "source": [
    "## load data\n",
    "LD = pd.read_csv('data/LD.csv.gz')\n",
    "LD = LD.rename(columns={'Unnamed: 0': 'SNP'})\n",
    "LD = LD.set_index('SNP')\n",
    "ld_matrix = LD.to_numpy()\n",
    "\n",
    "zscore = pd.read_csv('data/zscore.csv.gz')\n",
    "zscore = zscore.rename(columns={'Unnamed: 0': 'SNP'})\n",
    "zscore = zscore.set_index('SNP')\n",
    "z_scores = zscore.V1.tolist()\n",
    "\n",
    "## SNP numbers\n",
    "M = ld_matrix.shape[0]\n",
    "## Maximum Causal SNP number\n",
    "max_causal = 3"
   ]
  },
  {
   "cell_type": "markdown",
   "id": "e374d949",
   "metadata": {},
   "source": [
    "### Define Model"
   ]
  },
  {
   "cell_type": "code",
   "execution_count": 3,
   "id": "3ff68e8b",
   "metadata": {},
   "outputs": [],
   "source": [
    "## define finmapping class\n",
    "class FINEMAP :\n",
    "    def __init__(self, num_SNP, max_causal):\n",
    "        self.m = num_SNP\n",
    "        self.max_causal = max_causal\n",
    "    \n",
    "    def bayes_factor(self, ld_matrix, z_scores, config_SNP):\n",
    "        '''\n",
    "        calculate Bayes Factor\n",
    "        \n",
    "        Input: ld score matrix, z score list, configuration \n",
    "        \n",
    "        output: bayes factor for given configuration\n",
    "        '''\n",
    "        k = len(config_SNP) ##causal SNP number\n",
    "        R_CC = ld_matrix[config_SNP, :][:, config_SNP]\n",
    "        sigma_CC = 2.49 * np.eye(k)\n",
    "        z_C = np.array([z_scores[i] for i in config_SNP])\n",
    "        BF = mvn.pdf(z_C, mean=np.zeros(k), cov=R_CC + R_CC @ sigma_CC @ R_CC, allow_singular=True)/mvn.pdf(z_C, mean=np.zeros(k), cov=R_CC, allow_singular=True)\n",
    "        return BF\n",
    "\n",
    "    def prior(self, config_SNP):\n",
    "        '''\n",
    "        calculate Prior\n",
    "        \n",
    "        Input: configuration \n",
    "        \n",
    "        output: prior for given configuration\n",
    "        '''\n",
    "        k = len(config_SNP)\n",
    "        return ((1/self.m)**k)*(((self.m-1)/self.m)**(self.m-k))\n",
    "\n",
    "    def combinations(self, m, k):\n",
    "        '''\n",
    "        Generate all possible Configurations\n",
    "        \n",
    "        Input: SNP number and max causal SNP number \n",
    "        \n",
    "        output: all possible configuration\n",
    "        '''\n",
    "        samples = list(range(m)) ##get SNP index\n",
    "        com = []\n",
    "        for i in range(1,k+1):\n",
    "            combinations = np.array([list(c) for c in itertools.combinations(samples, i)])\n",
    "            com.extend(combinations)\n",
    "        return com\n",
    "\n",
    "    def posterior(self, ld_matrix, z_scores):\n",
    "        '''\n",
    "        calculate Posterior\n",
    "        \n",
    "        Input: ld score matrix, z scores list\n",
    "        \n",
    "        output: all configuration and their posterior\n",
    "        '''\n",
    "        m = self.m\n",
    "        k = self.max_causal\n",
    "        ##generate all possible configuration\n",
    "        config_SNP_set= self.combinations(m, k)\n",
    "        BF_set = []\n",
    "        with tqdm(total = len(config_SNP_set)) as pbar:\n",
    "            for config_SNP in config_SNP_set:\n",
    "                config_SNP = config_SNP.astype(int)\n",
    "                ##calculate BF for configuration\n",
    "                BF_config = self.bayes_factor(ld_matrix, z_scores, config_SNP)\n",
    "                if math.isinf(BF_config):\n",
    "                    BF_config = 0\n",
    "                ##calculate BF for configuration\n",
    "                prior_config = self.prior(config_SNP)\n",
    "                BF_set.append(BF_config * prior_config)\n",
    "                pbar.update(1)\n",
    "        ##calculate denominator        \n",
    "        denom = sum(BF_set)\n",
    "        ##calculate posterior for each configurations\n",
    "        posterior = [ (bf/denom) for bf in BF_set]\n",
    "        return config_SNP_set, posterior\n",
    "\n",
    "    def pip(self, config_SNP_set, posterior):\n",
    "        '''\n",
    "        calculate PIP\n",
    "        \n",
    "        Input: configuration set, posterior set\n",
    "        \n",
    "        output: PIP for all configurations\n",
    "        '''\n",
    "        pip = []\n",
    "        ##calculate denominator    \n",
    "        denome = sum(posterior)\n",
    "        with tqdm(total = self.m) as pbar:\n",
    "            for i in range (self.m):\n",
    "                nome = []\n",
    "                for idx, j in enumerate(configuration):\n",
    "                    if i in j:\n",
    "                        ### calculate numerator\n",
    "                        nome.append(posterior[idx])\n",
    "                ## calculate PIP\n",
    "                pip.append(sum(nome)/denome)\n",
    "                pbar.update(1)\n",
    "        return pip"
   ]
  },
  {
   "cell_type": "markdown",
   "id": "b6f7002c",
   "metadata": {},
   "source": [
    "### Implementation"
   ]
  },
  {
   "cell_type": "code",
   "execution_count": 4,
   "id": "6368f6db",
   "metadata": {
    "scrolled": false
   },
   "outputs": [
    {
     "name": "stderr",
     "output_type": "stream",
     "text": [
      "100%|███████████████████████████████████████████████████████████████████████| 166750/166750 [00:15<00:00, 10915.82it/s]\n"
     ]
    },
    {
     "name": "stdout",
     "output_type": "stream",
     "text": [
      "1.2796156661530751e+35\n"
     ]
    },
    {
     "name": "stderr",
     "output_type": "stream",
     "text": [
      " 11%|████████▉                                                                        | 11/100 [00:02<00:21,  4.14it/s]\n"
     ]
    },
    {
     "ename": "KeyboardInterrupt",
     "evalue": "",
     "output_type": "error",
     "traceback": [
      "\u001b[1;31m---------------------------------------------------------------------------\u001b[0m",
      "\u001b[1;31mKeyboardInterrupt\u001b[0m                         Traceback (most recent call last)",
      "Input \u001b[1;32mIn [4]\u001b[0m, in \u001b[0;36m<cell line: 3>\u001b[1;34m()\u001b[0m\n\u001b[0;32m      1\u001b[0m finemap \u001b[38;5;241m=\u001b[39m FINEMAP(M, \u001b[38;5;241m3\u001b[39m)\n\u001b[0;32m      2\u001b[0m configuration, posterior \u001b[38;5;241m=\u001b[39m finemap\u001b[38;5;241m.\u001b[39mposterior(ld_matrix, z_scores)\n\u001b[1;32m----> 3\u001b[0m pip \u001b[38;5;241m=\u001b[39m \u001b[43mfinemap\u001b[49m\u001b[38;5;241;43m.\u001b[39;49m\u001b[43mpip\u001b[49m\u001b[43m(\u001b[49m\u001b[43mconfiguration\u001b[49m\u001b[43m,\u001b[49m\u001b[43m \u001b[49m\u001b[43mposterior\u001b[49m\u001b[43m)\u001b[49m\n",
      "Input \u001b[1;32mIn [3]\u001b[0m, in \u001b[0;36mFINEMAP.pip\u001b[1;34m(self, config_SNP_set, posterior)\u001b[0m\n\u001b[0;32m     91\u001b[0m \u001b[38;5;28;01mfor\u001b[39;00m i \u001b[38;5;129;01min\u001b[39;00m \u001b[38;5;28mrange\u001b[39m (\u001b[38;5;28mself\u001b[39m\u001b[38;5;241m.\u001b[39mm):\n\u001b[0;32m     92\u001b[0m     nome \u001b[38;5;241m=\u001b[39m []\n\u001b[1;32m---> 93\u001b[0m     \u001b[38;5;28;01mfor\u001b[39;00m idx, j \u001b[38;5;129;01min\u001b[39;00m \u001b[38;5;28menumerate\u001b[39m(configuration):\n\u001b[0;32m     94\u001b[0m         \u001b[38;5;28;01mif\u001b[39;00m i \u001b[38;5;129;01min\u001b[39;00m j:\n\u001b[0;32m     95\u001b[0m             \u001b[38;5;66;03m### calculate numerator\u001b[39;00m\n\u001b[0;32m     96\u001b[0m             nome\u001b[38;5;241m.\u001b[39mappend(posterior[idx])\n",
      "\u001b[1;31mKeyboardInterrupt\u001b[0m: "
     ]
    }
   ],
   "source": [
    "finemap = FINEMAP(M, 3)\n",
    "configuration, posterior = finemap.posterior(ld_matrix, z_scores)\n",
    "pip = finemap.pip(configuration, posterior)"
   ]
  },
  {
   "cell_type": "markdown",
   "id": "a8632a26",
   "metadata": {},
   "source": [
    "### results"
   ]
  },
  {
   "cell_type": "code",
   "execution_count": 5,
   "id": "b3c0219b",
   "metadata": {
    "scrolled": true
   },
   "outputs": [],
   "source": [
    "## construct summarize dataframe\n",
    "sum_df = pd.read_csv('data/SNP_pip.csv.gz')\n",
    "sum_df = sum_df.rename(columns={'Unnamed: 0': 'SNP', 'x': 'true'})\n",
    "snp = sum_df.SNP.tolist()\n",
    "##encode casual SNP/ non-casual SNP\n",
    "causal_onehot = np.zeros(len(pip))\n",
    "for s in ['rs10104559', 'rs1365732', 'rs12676370']:\n",
    "    causal_onehot[snp.index(s)] = 1\n",
    "##inferred PIP\n",
    "sum_df['inferred'] = pip\n",
    "##encooded causal\n",
    "sum_df['causal'] = causal_onehot\n",
    "##-log10 p values\n",
    "sum_df['-logp'] = [-np.log10((scipy.stats.norm.sf(abs(z_score)))*2) for z_score in z_scores]"
   ]
  },
  {
   "cell_type": "code",
   "execution_count": 6,
   "id": "3b94e6c8",
   "metadata": {},
   "outputs": [],
   "source": [
    "##save results\n",
    "inferred_PIP = sum_df[['SNP', 'inferred']]\n",
    "inferred_PIP.to_csv('COMP565_A2_SNP_pip.csv.gz', index = False)"
   ]
  },
  {
   "cell_type": "code",
   "execution_count": 7,
   "id": "74de36e3",
   "metadata": {
    "scrolled": true
   },
   "outputs": [
    {
     "data": {
      "image/png": "[encoded data removed]",
      "text/plain": [
       "<Figure size 432x288 with 1 Axes>"
      ]
     },
     "metadata": {
      "needs_background": "light"
     },
     "output_type": "display_data"
    }
   ],
   "source": [
    "##Q3 plot\n",
    "\n",
    "## plot Posteriors of all of the valid configurations in increasing order\n",
    "posterior.sort()## sort by order\n",
    "plt.scatter(range(len(posterior)), posterior)\n",
    "plt.ylabel('Configuration Posterior', fontdict  = {'size': 12})\n",
    "plt.title(\"Posteriors of all configurations in increasing order\")\n",
    "plt.show()"
   ]
  },
  {
   "cell_type": "code",
   "execution_count": 8,
   "id": "36ebf947",
   "metadata": {},
   "outputs": [
    {
     "data": {
      "image/png": "[encoded data removed]",
      "text/plain": [
       "<Figure size 432x288 with 1 Axes>"
      ]
     },
     "metadata": {
      "needs_background": "light"
     },
     "output_type": "display_data"
    },
    {
     "data": {
      "image/png": "[encoded data removed]",
      "text/plain": [
       "<Figure size 432x288 with 1 Axes>"
      ]
     },
     "metadata": {
      "needs_background": "light"
     },
     "output_type": "display_data"
    }
   ],
   "source": [
    "##Q4 plot\n",
    "\n",
    "## plot -log10 P-values of the marginal z-scores of the 100 SNPs\n",
    "groups = sum_df.groupby('causal')\n",
    "colors = ['#2c6fbb', '#ef4026']\n",
    "for oh, group in groups:\n",
    "    plt.plot(group.index, group['-logp'], marker='o', linestyle='', label=bool(oh), color = colors[int(oh)])\n",
    "plt.legend()\n",
    "plt.xlabel('SNP index')\n",
    "plt.ylabel('-log10 p')\n",
    "plt.title(\"-log10 p-value by SNP\")\n",
    "plt.show()\n",
    "## plot inferred posterior inclusion probabilities (PIP) of the 100 same SNPs\n",
    "for oh, group in groups:\n",
    "    plt.plot(group.index, group.inferred, marker='o', linestyle='', label=bool(oh), color = colors[int(oh)])\n",
    "plt.legend()\n",
    "plt.xlabel('SNP index')\n",
    "plt.ylabel('PIP')\n",
    "plt.title(\"Normalized inferred PIP by SNP\")\n",
    "plt.show()"
   ]
  }
 ],
 "metadata": {
  "kernelspec": {
   "display_name": "Python 3 (ipykernel)",
   "language": "python",
   "name": "python3"
  },
  "language_info": {
   "codemirror_mode": {
    "name": "ipython",
    "version": 3
   },
   "file_extension": ".py",
   "mimetype": "text/x-python",
   "name": "python",
   "nbconvert_exporter": "python",
   "pygments_lexer": "ipython3",
   "version": "3.9.12"
  }
 },
 "nbformat": 4,
 "nbformat_minor": 5
}
